{
 "cells": [
  {
   "cell_type": "code",
   "execution_count": null,
   "metadata": {},
   "outputs": [],
   "source": [
    "import torch\n",
    "import torch.nn.functional as F\n",
    "import numpy as np"
   ]
  },
  {
   "cell_type": "code",
   "execution_count": null,
   "metadata": {},
   "outputs": [],
   "source": [
    "x = torch.rand(13,3)\n",
    "y = torch.randint(0,4,(13,))"
   ]
  },
  {
   "cell_type": "code",
   "execution_count": null,
   "metadata": {},
   "outputs": [],
   "source": [
    "w1 = torch.randn(3,6, requires_grad = True)\n",
    "w2 = torch.randn(6,9, requires_grad = True)\n",
    "w3 = torch.randn(9,4, requires_grad = True)\n",
    "param = [w1, w2, w3]"
   ]
  },
  {
   "cell_type": "code",
   "execution_count": null,
   "metadata": {},
   "outputs": [],
   "source": [
    "\n",
    "for i in range(10):\n",
    "    l = torch.matmul(x, w1)\n",
    "    l1 = torch.matmul(l, w2)\n",
    "    l2 = torch.matmul(l1, w3)\n",
    "    loss =F.cross_entropy(l2, y)\n",
    "    loss.backward()\n",
    "    print(loss)\n",
    "    for p in param:\n",
    "        pd = p.detach()\n",
    "        pd.sub_(0.1 * p.grad)\n",
    "    for p in param:\n",
    "        p.grad.zero_()\n"
   ]
  },
  {
   "cell_type": "code",
   "execution_count": null,
   "metadata": {},
   "outputs": [],
   "source": [
    "for i in range(10):\n",
    "    l = torch.matmul(x, w1)\n",
    "    l1 = torch.matmul(l, w2)\n",
    "    l2 = torch.matmul(l1, w3)\n",
    "    loss =F.cross_entropy(l2, y)\n",
    "    loss.backward()\n",
    "    print(loss)\n",
    "    for p in param:\n",
    "        p.requires_grad_(False)\n",
    "        p.sub_(0.1 * p.grad)\n",
    "    for p in param:\n",
    "        p.grad.zero_()\n",
    "    for p in param:\n",
    "        p.requires_grad = True\n"
   ]
  },
  {
   "cell_type": "code",
   "execution_count": null,
   "metadata": {},
   "outputs": [],
   "source": [
    "\n",
    "for i in range(10):\n",
    "    l = torch.matmul(x, w1)\n",
    "    l1 = torch.matmul(l, w2)\n",
    "    l2 = torch.matmul(l1, w3)\n",
    "    loss =F.cross_entropy(l2, y)\n",
    "    loss.backward()\n",
    "    print(loss)\n",
    "    with torch.no_grad():\n",
    "        for p in param:\n",
    "            p.sub_(0.1 * p.grad)\n",
    "    for p in param:\n",
    "        p.grad.zero_()\n"
   ]
  }
 ],
 "metadata": {
  "kernelspec": {
   "display_name": "pytorch",
   "language": "python",
   "name": "pytorch"
  },
  "language_info": {
   "codemirror_mode": {
    "name": "ipython",
    "version": 3
   },
   "file_extension": ".py",
   "mimetype": "text/x-python",
   "name": "python",
   "nbconvert_exporter": "python",
   "pygments_lexer": "ipython3",
   "version": "3.8.10"
  },
  "orig_nbformat": 4
 },
 "nbformat": 4,
 "nbformat_minor": 2
}
